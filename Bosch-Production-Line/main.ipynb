{
 "cells": [
  {
   "cell_type": "markdown",
   "metadata": {
    "collapsed": false
   },
   "source": [
    "## Kaggle Bosch Production Line Challenge\n",
    "The Kaggle Bosch challenge aiming to predict the failed products in a production line.The production line dataset is one of the largest public manufacturing datasets. Each observation represents a product, which moves through a production line. The features are anonymized. The naming of the feature follows the convention of “L#_S##_F####”, which representing the line, station, and feature number. The ground truth of whether a product is a failure is provided as a binary class, with 1 representing failure and 0 representing pass. The goal is to use the features to predict the failed product."
   ]
  },
  {
   "cell_type": "markdown",
   "metadata": {},
   "source": [
    "# 0 Preprocess\n",
    "Load libraires, data audit, remove constant columns"
   ]
  },
  {
   "cell_type": "markdown",
   "metadata": {},
   "source": [
    "## 0.0 load libraries"
   ]
  },
  {
   "cell_type": "code",
   "execution_count": 1,
   "metadata": {
    "collapsed": false
   },
   "outputs": [
    {
     "name": "stderr",
     "output_type": "stream",
     "text": [
      "C:\\Users\\Dalaska\\AppData\\Roaming\\Python\\Python27\\site-packages\\sklearn\\utils\\sparsetools\\__init__.py:3: RuntimeWarning: numpy.dtype size changed, may indicate binary incompatibility\n",
      "  from ._min_spanning_tree import minimum_spanning_tree\n",
      "C:\\Users\\Dalaska\\AppData\\Roaming\\Python\\Python27\\site-packages\\sklearn\\utils\\sparsetools\\_graph_validation.py:5: RuntimeWarning: numpy.dtype size changed, may indicate binary incompatibility\n",
      "  from ._graph_tools import csgraph_to_dense, csgraph_from_dense,\\\n",
      "C:\\Users\\Dalaska\\AppData\\Roaming\\Python\\Python27\\site-packages\\sklearn\\utils\\sparsetools\\__init__.py:4: RuntimeWarning: numpy.dtype size changed, may indicate binary incompatibility\n",
      "  from ._traversal import connected_components\n",
      "C:\\Users\\Dalaska\\AppData\\Roaming\\Python\\Python27\\site-packages\\sklearn\\utils\\extmath.py:20: RuntimeWarning: numpy.dtype size changed, may indicate binary incompatibility\n",
      "  from ._logistic_sigmoid import _log_logistic_sigmoid\n",
      "C:\\Users\\Dalaska\\AppData\\Roaming\\Python\\Python27\\site-packages\\sklearn\\utils\\extmath.py:22: RuntimeWarning: numpy.dtype size changed, may indicate binary incompatibility\n",
      "  from .sparsefuncs_fast import csr_row_norms\n",
      "C:\\Users\\Dalaska\\AppData\\Roaming\\Python\\Python27\\site-packages\\sklearn\\metrics\\cluster\\supervised.py:18: RuntimeWarning: numpy.dtype size changed, may indicate binary incompatibility\n",
      "  from .expected_mutual_info_fast import expected_mutual_information\n",
      "C:\\Users\\Dalaska\\AppData\\Roaming\\Python\\Python27\\site-packages\\sklearn\\metrics\\pairwise.py:56: RuntimeWarning: numpy.dtype size changed, may indicate binary incompatibility\n",
      "  from .pairwise_fast import _chi2_kernel_fast, _sparse_manhattan\n",
      "C:\\Users\\Dalaska\\Anaconda2\\lib\\site-packages\\matplotlib\\backends\\qt_compat.py:84: ImportWarning: Not importing directory 'C:\\Users\\Dalaska\\Anaconda2\\sip': missing __init__.py\n",
      "  import sip\n",
      "C:\\Users\\Dalaska\\AppData\\Roaming\\Python\\Python27\\site-packages\\sklearn\\linear_model\\least_angle.py:24: RuntimeWarning: numpy.dtype size changed, may indicate binary incompatibility\n",
      "  from ..utils import array2d, arrayfuncs, as_float_array, check_arrays\n",
      "C:\\Users\\Dalaska\\AppData\\Roaming\\Python\\Python27\\site-packages\\sklearn\\linear_model\\coordinate_descent.py:26: RuntimeWarning: numpy.dtype size changed, may indicate binary incompatibility\n",
      "  from . import cd_fast\n",
      "C:\\Users\\Dalaska\\AppData\\Roaming\\Python\\Python27\\site-packages\\sklearn\\linear_model\\__init__.py:21: RuntimeWarning: numpy.dtype size changed, may indicate binary incompatibility\n",
      "  from .sgd_fast import Hinge, Log, ModifiedHuber, SquaredLoss, Huber\n",
      "C:\\Users\\Dalaska\\AppData\\Roaming\\Python\\Python27\\site-packages\\sklearn\\svm\\base.py:8: RuntimeWarning: numpy.dtype size changed, may indicate binary incompatibility\n",
      "  from . import libsvm, liblinear\n",
      "C:\\Users\\Dalaska\\AppData\\Roaming\\Python\\Python27\\site-packages\\sklearn\\svm\\base.py:9: RuntimeWarning: numpy.dtype size changed, may indicate binary incompatibility\n",
      "  from . import libsvm_sparse\n",
      "C:\\Users\\Dalaska\\AppData\\Roaming\\Python\\Python27\\site-packages\\sklearn\\utils\\random.py:9: RuntimeWarning: numpy.dtype size changed, may indicate binary incompatibility\n",
      "  from ._random import sample_without_replacement\n",
      "C:\\Users\\Dalaska\\Anaconda2\\lib\\site-packages\\ipykernel\\pylab\\config.py:66: DeprecationWarning: metadata {'config': True} was set from the constructor.  Metadata should be set using the .tag() method, e.g., Int().tag(key1='value1', key2='value2')\n",
      "  inline backend.\"\"\"\n",
      "C:\\Users\\Dalaska\\Anaconda2\\lib\\site-packages\\ipykernel\\pylab\\config.py:71: DeprecationWarning: metadata {'config': True} was set from the constructor.  Metadata should be set using the .tag() method, e.g., Int().tag(key1='value1', key2='value2')\n",
      "  'retina', 'jpeg', 'svg', 'pdf'.\"\"\")\n",
      "C:\\Users\\Dalaska\\Anaconda2\\lib\\site-packages\\ipykernel\\pylab\\config.py:85: DeprecationWarning: metadata {'config': True} was set from the constructor.  Metadata should be set using the .tag() method, e.g., Int().tag(key1='value1', key2='value2')\n",
      "  use `figure_formats` instead)\"\"\")\n",
      "C:\\Users\\Dalaska\\Anaconda2\\lib\\site-packages\\ipykernel\\pylab\\config.py:95: DeprecationWarning: metadata {'config': True} was set from the constructor.  Metadata should be set using the .tag() method, e.g., Int().tag(key1='value1', key2='value2')\n",
      "  \"\"\"\n",
      "C:\\Users\\Dalaska\\Anaconda2\\lib\\site-packages\\ipykernel\\pylab\\config.py:114: DeprecationWarning: metadata {'config': True} was set from the constructor.  Metadata should be set using the .tag() method, e.g., Int().tag(key1='value1', key2='value2')\n",
      "  \"\"\")\n",
      "C:\\Users\\Dalaska\\Anaconda2\\lib\\site-packages\\ipykernel\\pylab\\config.py:44: DeprecationWarning: InlineBackend._config_changed is deprecated: use @observe and @unobserve instead.\n",
      "  def _config_changed(self, name, old, new):\n",
      "C:\\Users\\Dalaska\\Anaconda2\\lib\\site-packages\\traitlets\\traitlets.py:770: DeprecationWarning: A parent of InlineBackend._config_changed has adopted the new @observe(change) API\n",
      "  clsname, change_or_name), DeprecationWarning)\n",
      "C:\\Users\\Dalaska\\Anaconda2\\lib\\site-packages\\IPython\\core\\formatters.py:98: DeprecationWarning: DisplayFormatter._formatters_default is deprecated: use @default decorator instead.\n",
      "  def _formatters_default(self):\n",
      "C:\\Users\\Dalaska\\Anaconda2\\lib\\site-packages\\IPython\\core\\formatters.py:677: DeprecationWarning: PlainTextFormatter._deferred_printers_default is deprecated: use @default decorator instead.\n",
      "  def _deferred_printers_default(self):\n",
      "C:\\Users\\Dalaska\\Anaconda2\\lib\\site-packages\\IPython\\core\\formatters.py:669: DeprecationWarning: PlainTextFormatter._singleton_printers_default is deprecated: use @default decorator instead.\n",
      "  def _singleton_printers_default(self):\n",
      "C:\\Users\\Dalaska\\Anaconda2\\lib\\site-packages\\IPython\\core\\formatters.py:672: DeprecationWarning: PlainTextFormatter._type_printers_default is deprecated: use @default decorator instead.\n",
      "  def _type_printers_default(self):\n",
      "C:\\Users\\Dalaska\\Anaconda2\\lib\\site-packages\\IPython\\core\\formatters.py:672: DeprecationWarning: PlainTextFormatter._type_printers_default is deprecated: use @default decorator instead.\n",
      "  def _type_printers_default(self):\n",
      "C:\\Users\\Dalaska\\Anaconda2\\lib\\site-packages\\IPython\\core\\formatters.py:677: DeprecationWarning: PlainTextFormatter._deferred_printers_default is deprecated: use @default decorator instead.\n",
      "  def _deferred_printers_default(self):\n"
     ]
    }
   ],
   "source": [
    "# load libraries\n",
    "import pandas\n",
    "import numpy as np \n",
    "from sklearn import cross_validation as cv\n",
    "from sklearn.metrics import matthews_corrcoef\n",
    "from sklearn import preprocessing\n",
    "import time\n",
    "from matplotlib import pyplot as plt\n",
    "from sklearn.preprocessing import StandardScaler\n",
    "from sklearn.cross_decomposition import PLSRegression\n",
    "from sklearn.decomposition import PCA\n",
    "\n",
    "%matplotlib inline"
   ]
  },
  {
   "cell_type": "markdown",
   "metadata": {},
   "source": [
    "Read the dataset in float16 format to conserve memory"
   ]
  },
  {
   "cell_type": "code",
   "execution_count": 2,
   "metadata": {
    "collapsed": false
   },
   "outputs": [
    {
     "name": "stdout",
     "output_type": "stream",
     "text": [
      "<class 'pandas.core.frame.DataFrame'>\n",
      "Int64Index: 1183747 entries, 0 to 1183746\n",
      "Columns: 970 entries, Id to Response\n",
      "dtypes: float16(970)\n",
      "memory usage: 2.1 GB\n",
      "None\n"
     ]
    }
   ],
   "source": [
    "# read the dataset\n",
    "start = time.time()\n",
    "X_train_all = pandas.read_csv(\"train_numeric.csv\",dtype='float16')\n",
    "print(X_train_all.info(memory_usage=True))"
   ]
  },
  {
   "cell_type": "markdown",
   "metadata": {},
   "source": [
    "## 0.1 Load data"
   ]
  },
  {
   "cell_type": "markdown",
   "metadata": {},
   "source": [
    "Randomly shuffle data, the select n rows"
   ]
  },
  {
   "cell_type": "code",
   "execution_count": 3,
   "metadata": {
    "collapsed": false
   },
   "outputs": [],
   "source": [
    "# shuffle, randomize the data set\n",
    "X_train_all = X_train_all.iloc[np.random.permutation(len(X_train_all))]"
   ]
  },
  {
   "cell_type": "code",
   "execution_count": 4,
   "metadata": {
    "collapsed": false
   },
   "outputs": [],
   "source": [
    "# select n data to speed up\n",
    "i = 10000\n",
    "X_train = X_train_all[:i]"
   ]
  },
  {
   "cell_type": "markdown",
   "metadata": {},
   "source": [
    "## 0.2 Seperate training and testing set"
   ]
  },
  {
   "cell_type": "code",
   "execution_count": 5,
   "metadata": {
    "collapsed": false
   },
   "outputs": [
    {
     "name": "stdout",
     "output_type": "stream",
     "text": [
      "Train set size: (10000, 968)\n"
     ]
    }
   ],
   "source": [
    "# labels\n",
    "y_train = X_train['Response'] # get the label of the training set\n",
    "# features\n",
    "X_train = X_train.drop(['Id','Response'], axis=1) # remove the columns of ID and Label in training set\n",
    "\n",
    "print(\"Train set size: {}\".format(X_train.shape))"
   ]
  },
  {
   "cell_type": "markdown",
   "metadata": {
    "collapsed": true
   },
   "source": [
    "## 0.3 Data summary"
   ]
  },
  {
   "cell_type": "markdown",
   "metadata": {},
   "source": [
    "Basics statistics"
   ]
  },
  {
   "cell_type": "code",
   "execution_count": 6,
   "metadata": {
    "collapsed": false
   },
   "outputs": [
    {
     "name": "stdout",
     "output_type": "stream",
     "text": [
      "Training set:\n",
      "# data: 10000\n",
      "# features: 968\n",
      "# passed: 9943\n",
      "# failed: 57\n",
      "% failure rate: 0.573%\n"
     ]
    }
   ],
   "source": [
    "# training set\n",
    "print (\"Training set:\")\n",
    "n_data  = len(X_train)\n",
    "# exclude first colum ID and last column label (substract 2)\n",
    "n_features = X_train.shape[1]\n",
    "# number of satisfied customers\n",
    "n_sat = len(y_train[y_train == 0]) \n",
    "# number of dissatisfied customers\n",
    "n_unsat = len(y_train[y_train == 1]) \n",
    "sat_rate = 100.0*n_unsat/n_sat\n",
    "print (\"# data: {}\".format(n_data))\n",
    "print (\"# features: {}\".format(n_features))\n",
    "print (\"# passed: {}\".format(n_sat))\n",
    "print (\"# failed: {}\".format(n_unsat))\n",
    "print (\"% failure rate: {:.3f}%\".format(sat_rate))"
   ]
  },
  {
   "cell_type": "markdown",
   "metadata": {},
   "source": [
    "Print the a feature summary, max, min std"
   ]
  },
  {
   "cell_type": "code",
   "execution_count": 7,
   "metadata": {
    "collapsed": false
   },
   "outputs": [
    {
     "name": "stderr",
     "output_type": "stream",
     "text": [
      "C:\\Users\\Dalaska\\Anaconda2\\lib\\site-packages\\IPython\\core\\formatters.py:92: DeprecationWarning: DisplayFormatter._ipython_display_formatter_default is deprecated: use @default decorator instead.\n",
      "  def _ipython_display_formatter_default(self):\n",
      "C:\\Users\\Dalaska\\Anaconda2\\lib\\site-packages\\IPython\\core\\formatters.py:669: DeprecationWarning: PlainTextFormatter._singleton_printers_default is deprecated: use @default decorator instead.\n",
      "  def _singleton_printers_default(self):\n"
     ]
    },
    {
     "data": {
      "text/html": [
       "<div>\n",
       "<table border=\"1\" class=\"dataframe\">\n",
       "  <thead>\n",
       "    <tr style=\"text-align: right;\">\n",
       "      <th></th>\n",
       "      <th>L0_S0_F0</th>\n",
       "      <th>L0_S0_F2</th>\n",
       "      <th>L0_S0_F4</th>\n",
       "      <th>L0_S0_F6</th>\n",
       "      <th>L0_S0_F8</th>\n",
       "      <th>L0_S0_F10</th>\n",
       "      <th>L0_S0_F12</th>\n",
       "      <th>L0_S0_F14</th>\n",
       "      <th>L0_S0_F16</th>\n",
       "      <th>L0_S0_F18</th>\n",
       "      <th>...</th>\n",
       "      <th>L3_S50_F4243</th>\n",
       "      <th>L3_S50_F4245</th>\n",
       "      <th>L3_S50_F4247</th>\n",
       "      <th>L3_S50_F4249</th>\n",
       "      <th>L3_S50_F4251</th>\n",
       "      <th>L3_S50_F4253</th>\n",
       "      <th>L3_S51_F4256</th>\n",
       "      <th>L3_S51_F4258</th>\n",
       "      <th>L3_S51_F4260</th>\n",
       "      <th>L3_S51_F4262</th>\n",
       "    </tr>\n",
       "  </thead>\n",
       "  <tbody>\n",
       "    <tr>\n",
       "      <th>count</th>\n",
       "      <td>5753.000000</td>\n",
       "      <td>5753.000000</td>\n",
       "      <td>5753.000000</td>\n",
       "      <td>5753.000000</td>\n",
       "      <td>5753.000000</td>\n",
       "      <td>5753.000000</td>\n",
       "      <td>5753.000000</td>\n",
       "      <td>5753.000000</td>\n",
       "      <td>5753.000000</td>\n",
       "      <td>5753.000000</td>\n",
       "      <td>...</td>\n",
       "      <td>248.000000</td>\n",
       "      <td>248.000000</td>\n",
       "      <td>248.000000</td>\n",
       "      <td>248.000000</td>\n",
       "      <td>248.000000</td>\n",
       "      <td>248.000000</td>\n",
       "      <td>500.000000</td>\n",
       "      <td>500.000000</td>\n",
       "      <td>500.000000</td>\n",
       "      <td>500.000000</td>\n",
       "    </tr>\n",
       "    <tr>\n",
       "      <th>mean</th>\n",
       "      <td>-0.000385</td>\n",
       "      <td>-0.001043</td>\n",
       "      <td>-0.001509</td>\n",
       "      <td>-0.001362</td>\n",
       "      <td>-0.001517</td>\n",
       "      <td>0.001283</td>\n",
       "      <td>-0.000028</td>\n",
       "      <td>0.000583</td>\n",
       "      <td>-0.001062</td>\n",
       "      <td>-0.001015</td>\n",
       "      <td>...</td>\n",
       "      <td>-0.000003</td>\n",
       "      <td>-0.000004</td>\n",
       "      <td>0.000186</td>\n",
       "      <td>0.000036</td>\n",
       "      <td>0.000052</td>\n",
       "      <td>0.002016</td>\n",
       "      <td>-0.000006</td>\n",
       "      <td>0.000010</td>\n",
       "      <td>0.000012</td>\n",
       "      <td>0.000040</td>\n",
       "    </tr>\n",
       "    <tr>\n",
       "      <th>std</th>\n",
       "      <td>0.080505</td>\n",
       "      <td>0.093140</td>\n",
       "      <td>0.211548</td>\n",
       "      <td>0.211548</td>\n",
       "      <td>0.094788</td>\n",
       "      <td>0.164307</td>\n",
       "      <td>0.019562</td>\n",
       "      <td>0.105774</td>\n",
       "      <td>0.115295</td>\n",
       "      <td>0.113464</td>\n",
       "      <td>...</td>\n",
       "      <td>0.146973</td>\n",
       "      <td>0.000000</td>\n",
       "      <td>0.002869</td>\n",
       "      <td>0.000488</td>\n",
       "      <td>0.000345</td>\n",
       "      <td>0.250488</td>\n",
       "      <td>0.000000</td>\n",
       "      <td>0.000244</td>\n",
       "      <td>0.000000</td>\n",
       "      <td>0.000345</td>\n",
       "    </tr>\n",
       "    <tr>\n",
       "      <th>min</th>\n",
       "      <td>-0.407959</td>\n",
       "      <td>-0.422119</td>\n",
       "      <td>-0.396973</td>\n",
       "      <td>-0.396973</td>\n",
       "      <td>-0.404053</td>\n",
       "      <td>-0.565918</td>\n",
       "      <td>-0.052002</td>\n",
       "      <td>-0.232056</td>\n",
       "      <td>-0.393066</td>\n",
       "      <td>-0.344971</td>\n",
       "      <td>...</td>\n",
       "      <td>-0.302002</td>\n",
       "      <td>-0.001000</td>\n",
       "      <td>0.000000</td>\n",
       "      <td>0.000000</td>\n",
       "      <td>0.000000</td>\n",
       "      <td>-0.250000</td>\n",
       "      <td>-0.001000</td>\n",
       "      <td>0.000000</td>\n",
       "      <td>0.000000</td>\n",
       "      <td>0.000000</td>\n",
       "    </tr>\n",
       "    <tr>\n",
       "      <th>25%</th>\n",
       "      <td>-0.049011</td>\n",
       "      <td>-0.064026</td>\n",
       "      <td>-0.178955</td>\n",
       "      <td>-0.178955</td>\n",
       "      <td>-0.056000</td>\n",
       "      <td>-0.065979</td>\n",
       "      <td>-0.014999</td>\n",
       "      <td>-0.072021</td>\n",
       "      <td>-0.081970</td>\n",
       "      <td>-0.083008</td>\n",
       "      <td>...</td>\n",
       "      <td>-0.112000</td>\n",
       "      <td>0.000000</td>\n",
       "      <td>0.000000</td>\n",
       "      <td>0.000000</td>\n",
       "      <td>0.000000</td>\n",
       "      <td>-0.250000</td>\n",
       "      <td>0.000000</td>\n",
       "      <td>0.000000</td>\n",
       "      <td>0.000000</td>\n",
       "      <td>0.000000</td>\n",
       "    </tr>\n",
       "    <tr>\n",
       "      <th>50%</th>\n",
       "      <td>0.003000</td>\n",
       "      <td>0.004002</td>\n",
       "      <td>-0.032990</td>\n",
       "      <td>-0.033997</td>\n",
       "      <td>0.031006</td>\n",
       "      <td>0.070007</td>\n",
       "      <td>0.000000</td>\n",
       "      <td>-0.032013</td>\n",
       "      <td>-0.005001</td>\n",
       "      <td>0.002001</td>\n",
       "      <td>...</td>\n",
       "      <td>-0.008001</td>\n",
       "      <td>0.000000</td>\n",
       "      <td>0.000000</td>\n",
       "      <td>0.000000</td>\n",
       "      <td>0.000000</td>\n",
       "      <td>0.250000</td>\n",
       "      <td>0.000000</td>\n",
       "      <td>0.000000</td>\n",
       "      <td>0.000000</td>\n",
       "      <td>0.000000</td>\n",
       "    </tr>\n",
       "    <tr>\n",
       "      <th>75%</th>\n",
       "      <td>0.056000</td>\n",
       "      <td>0.062988</td>\n",
       "      <td>0.293945</td>\n",
       "      <td>0.293945</td>\n",
       "      <td>0.031006</td>\n",
       "      <td>0.116028</td>\n",
       "      <td>0.014999</td>\n",
       "      <td>0.088013</td>\n",
       "      <td>0.075989</td>\n",
       "      <td>0.077026</td>\n",
       "      <td>...</td>\n",
       "      <td>0.082230</td>\n",
       "      <td>0.000000</td>\n",
       "      <td>0.000000</td>\n",
       "      <td>0.000000</td>\n",
       "      <td>0.000000</td>\n",
       "      <td>0.250000</td>\n",
       "      <td>0.000000</td>\n",
       "      <td>0.000000</td>\n",
       "      <td>0.000000</td>\n",
       "      <td>0.000000</td>\n",
       "    </tr>\n",
       "    <tr>\n",
       "      <th>max</th>\n",
       "      <td>0.258057</td>\n",
       "      <td>0.280029</td>\n",
       "      <td>0.566895</td>\n",
       "      <td>0.565918</td>\n",
       "      <td>0.291992</td>\n",
       "      <td>0.206055</td>\n",
       "      <td>0.088989</td>\n",
       "      <td>0.488037</td>\n",
       "      <td>0.427979</td>\n",
       "      <td>0.483887</td>\n",
       "      <td>...</td>\n",
       "      <td>0.452881</td>\n",
       "      <td>0.000000</td>\n",
       "      <td>0.045013</td>\n",
       "      <td>0.007000</td>\n",
       "      <td>0.003000</td>\n",
       "      <td>0.250000</td>\n",
       "      <td>0.001000</td>\n",
       "      <td>0.005001</td>\n",
       "      <td>0.003000</td>\n",
       "      <td>0.007000</td>\n",
       "    </tr>\n",
       "  </tbody>\n",
       "</table>\n",
       "<p>8 rows × 968 columns</p>\n",
       "</div>"
      ],
      "text/plain": [
       "          L0_S0_F0     L0_S0_F2     L0_S0_F4     L0_S0_F6     L0_S0_F8  \\\n",
       "count  5753.000000  5753.000000  5753.000000  5753.000000  5753.000000   \n",
       "mean     -0.000385    -0.001043    -0.001509    -0.001362    -0.001517   \n",
       "std       0.080505     0.093140     0.211548     0.211548     0.094788   \n",
       "min      -0.407959    -0.422119    -0.396973    -0.396973    -0.404053   \n",
       "25%      -0.049011    -0.064026    -0.178955    -0.178955    -0.056000   \n",
       "50%       0.003000     0.004002    -0.032990    -0.033997     0.031006   \n",
       "75%       0.056000     0.062988     0.293945     0.293945     0.031006   \n",
       "max       0.258057     0.280029     0.566895     0.565918     0.291992   \n",
       "\n",
       "         L0_S0_F10    L0_S0_F12    L0_S0_F14    L0_S0_F16    L0_S0_F18  \\\n",
       "count  5753.000000  5753.000000  5753.000000  5753.000000  5753.000000   \n",
       "mean      0.001283    -0.000028     0.000583    -0.001062    -0.001015   \n",
       "std       0.164307     0.019562     0.105774     0.115295     0.113464   \n",
       "min      -0.565918    -0.052002    -0.232056    -0.393066    -0.344971   \n",
       "25%      -0.065979    -0.014999    -0.072021    -0.081970    -0.083008   \n",
       "50%       0.070007     0.000000    -0.032013    -0.005001     0.002001   \n",
       "75%       0.116028     0.014999     0.088013     0.075989     0.077026   \n",
       "max       0.206055     0.088989     0.488037     0.427979     0.483887   \n",
       "\n",
       "           ...       L3_S50_F4243  L3_S50_F4245  L3_S50_F4247  L3_S50_F4249  \\\n",
       "count      ...         248.000000    248.000000    248.000000    248.000000   \n",
       "mean       ...          -0.000003     -0.000004      0.000186      0.000036   \n",
       "std        ...           0.146973      0.000000      0.002869      0.000488   \n",
       "min        ...          -0.302002     -0.001000      0.000000      0.000000   \n",
       "25%        ...          -0.112000      0.000000      0.000000      0.000000   \n",
       "50%        ...          -0.008001      0.000000      0.000000      0.000000   \n",
       "75%        ...           0.082230      0.000000      0.000000      0.000000   \n",
       "max        ...           0.452881      0.000000      0.045013      0.007000   \n",
       "\n",
       "       L3_S50_F4251  L3_S50_F4253  L3_S51_F4256  L3_S51_F4258  L3_S51_F4260  \\\n",
       "count    248.000000    248.000000    500.000000    500.000000    500.000000   \n",
       "mean       0.000052      0.002016     -0.000006      0.000010      0.000012   \n",
       "std        0.000345      0.250488      0.000000      0.000244      0.000000   \n",
       "min        0.000000     -0.250000     -0.001000      0.000000      0.000000   \n",
       "25%        0.000000     -0.250000      0.000000      0.000000      0.000000   \n",
       "50%        0.000000      0.250000      0.000000      0.000000      0.000000   \n",
       "75%        0.000000      0.250000      0.000000      0.000000      0.000000   \n",
       "max        0.003000      0.250000      0.001000      0.005001      0.003000   \n",
       "\n",
       "       L3_S51_F4262  \n",
       "count    500.000000  \n",
       "mean       0.000040  \n",
       "std        0.000345  \n",
       "min        0.000000  \n",
       "25%        0.000000  \n",
       "50%        0.000000  \n",
       "75%        0.000000  \n",
       "max        0.007000  \n",
       "\n",
       "[8 rows x 968 columns]"
      ]
     },
     "execution_count": 7,
     "metadata": {},
     "output_type": "execute_result"
    }
   ],
   "source": [
    "## summary\n",
    "X_train.describe()"
   ]
  },
  {
   "cell_type": "markdown",
   "metadata": {},
   "source": [
    "## 0.4 Replace missing data"
   ]
  },
  {
   "cell_type": "code",
   "execution_count": 8,
   "metadata": {
    "collapsed": true
   },
   "outputs": [],
   "source": [
    "# replace nan with large num\n",
    "X_train.fillna(value = -2, inplace = True)\n",
    "# replace with mean\n",
    "#X_all.fillna(X_all.mean(), inplace = True)"
   ]
  },
  {
   "cell_type": "markdown",
   "metadata": {},
   "source": [
    "## 0.5 Sparsity"
   ]
  },
  {
   "cell_type": "markdown",
   "metadata": {},
   "source": [
    "Count the the percentage of missing data"
   ]
  },
  {
   "cell_type": "code",
   "execution_count": 9,
   "metadata": {
    "collapsed": true
   },
   "outputs": [],
   "source": [
    "# count the the percentage of missing data in each feature\n",
    "def countNan(X_train):\n",
    "    n_data  = len(X_train) # number of rows\n",
    "    Na_Num = [0] * n_data\n",
    "    headers = list(X_train.columns.values)\n",
    "    xm = X_train.as_matrix() # convert data set to array\n",
    "    m = 0 # inicialized\n",
    "    for i in range(X_train.shape[0]):\n",
    "        count = 0\n",
    "        for j in range(X_train.shape[1]):\n",
    "            if xm[i][j] < -1.99:\n",
    "                count = count + 1\n",
    "        Na_Num[m]= 1.0*count/n_data\n",
    "        m = m+1\n",
    "    return Na_Num"
   ]
  },
  {
   "cell_type": "code",
   "execution_count": 10,
   "metadata": {
    "collapsed": false
   },
   "outputs": [],
   "source": [
    "# count the percentage of missing data\n",
    "Na_Num = countNan(X_train )"
   ]
  },
  {
   "cell_type": "code",
   "execution_count": 11,
   "metadata": {
    "collapsed": false
   },
   "outputs": [
    {
     "name": "stdout",
     "output_type": "stream",
     "text": [
      "Total sparsity of the dataset: 0.078%\n"
     ]
    }
   ],
   "source": [
    "# total sparsity to percent\n",
    "print (\"Total sparsity of the dataset: {:.3f}%\".format(np.mean(Na_Num)))"
   ]
  },
  {
   "cell_type": "markdown",
   "metadata": {},
   "source": [
    "Plot the distribution of features with missing values"
   ]
  },
  {
   "cell_type": "code",
   "execution_count": 12,
   "metadata": {
    "collapsed": false
   },
   "outputs": [
    {
     "data": {
      "text/plain": [
       "<matplotlib.text.Text at 0x62c73240>"
      ]
     },
     "execution_count": 12,
     "metadata": {},
     "output_type": "execute_result"
    },
    {
     "data": {
      "image/png": "[encoded data removed]",
      "text/plain": [
       "<matplotlib.figure.Figure at 0x62c5e400>"
      ]
     },
     "metadata": {},
     "output_type": "display_data"
    }
   ],
   "source": [
    "# The distribution of features with missing values\n",
    "plt.hist(Na_Num,20,color='w')\n",
    "plt.xlabel(\"% missing value\")\n",
    "plt.ylabel(\"# of features\")"
   ]
  },
  {
   "cell_type": "markdown",
   "metadata": {},
   "source": [
    "## 0.6 remove constant columns"
   ]
  },
  {
   "cell_type": "code",
   "execution_count": 13,
   "metadata": {
    "collapsed": false
   },
   "outputs": [
    {
     "name": "stdout",
     "output_type": "stream",
     "text": [
      "# removed constant columns: 0\n"
     ]
    }
   ],
   "source": [
    "# remove constant columns\n",
    "colsToRemove = []\n",
    "for col in X_train.columns:\n",
    "    # column have 0 standard deviation\n",
    "    if X_train[col].std() == 0: \n",
    "        colsToRemove.append(col)\n",
    "# remove constant columns in the training set\n",
    "X_train.drop(colsToRemove, axis=1, inplace=True) \n",
    "# remove constant columns in the test set\n",
    "print(\"# removed constant columns: {}\".format(len(colsToRemove)))  "
   ]
  },
  {
   "cell_type": "markdown",
   "metadata": {},
   "source": [
    "# 1. Clustering"
   ]
  },
  {
   "cell_type": "markdown",
   "metadata": {},
   "source": [
    "Create a binary features to describe  wehter the feature is missing in a process"
   ]
  },
  {
   "cell_type": "markdown",
   "metadata": {},
   "source": [
    "## 1.0 Create binary features"
   ]
  },
  {
   "cell_type": "code",
   "execution_count": 14,
   "metadata": {
    "collapsed": true
   },
   "outputs": [],
   "source": [
    "# inicalize a dataframe to hold binary values\n",
    "X_train_bi = X_train.copy()"
   ]
  },
  {
   "cell_type": "code",
   "execution_count": 15,
   "metadata": {
    "collapsed": true
   },
   "outputs": [],
   "source": [
    "# O:the data is missing, 1:the data is present"
   ]
  },
  {
   "cell_type": "code",
   "execution_count": 16,
   "metadata": {
    "collapsed": false
   },
   "outputs": [],
   "source": [
    "headers = list(X_train.columns.values)\n",
    "for i in headers:\n",
    "    X_train_bi.loc[X_train[i] > -1.99 , i] = 1\n",
    "    X_train_bi.loc[X_train[i] < -1.99 , i] = 0"
   ]
  },
  {
   "cell_type": "code",
   "execution_count": 17,
   "metadata": {
    "collapsed": false
   },
   "outputs": [
    {
     "name": "stdout",
     "output_type": "stream",
     "text": [
      "<class 'pandas.core.frame.DataFrame'>\n",
      "Int64Index: 10000 entries, 479094 to 751347\n",
      "Columns: 968 entries, L0_S0_F0 to L3_S51_F4262\n",
      "dtypes: int8(968)\n",
      "memory usage: 9.3 MB\n",
      "None\n"
     ]
    }
   ],
   "source": [
    "# convert the data frame to int to save memory\n",
    "X_train_bi = X_train_bi.astype('int8')\n",
    "print(X_train_bi.info(memory_usage=True))"
   ]
  },
  {
   "cell_type": "markdown",
   "metadata": {
    "collapsed": true
   },
   "source": [
    "## 1.1 PCA"
   ]
  },
  {
   "cell_type": "code",
   "execution_count": 18,
   "metadata": {
    "collapsed": false
   },
   "outputs": [
    {
     "data": {
      "text/plain": [
       "PCA(copy=True, n_components=968, whiten=False)"
      ]
     },
     "execution_count": 18,
     "metadata": {},
     "output_type": "execute_result"
    }
   ],
   "source": [
    "# n_components equal # feature\n",
    "pca = PCA(n_components= X_train_bi.shape[1]) \n",
    "pca.fit(X_train)"
   ]
  },
  {
   "cell_type": "markdown",
   "metadata": {},
   "source": [
    "## 1.2 Variance explaining ratio"
   ]
  },
  {
   "cell_type": "code",
   "execution_count": 19,
   "metadata": {
    "collapsed": false
   },
   "outputs": [
    {
     "data": {
      "text/plain": [
       "<matplotlib.text.Text at 0x4e873c88>"
      ]
     },
     "execution_count": 19,
     "metadata": {},
     "output_type": "execute_result"
    },
    {
     "data": {
      "image/png": "[encoded data removed]",
      "text/plain": [
       "<matplotlib.figure.Figure at 0x89e29be0>"
      ]
     },
     "metadata": {},
     "output_type": "display_data"
    }
   ],
   "source": [
    "# plot variance explained ratio\n",
    "plt.plot(np.cumsum(pca.explained_variance_ratio_[:40]),'-ko')\n",
    "plt.xlabel('number of principle components')\n",
    "plt.ylabel('variance explantion rate')\n",
    "plt.title(\" Variance explained ratio\")"
   ]
  },
  {
   "cell_type": "markdown",
   "metadata": {
    "collapsed": true
   },
   "source": [
    "## 1.3 Visualization"
   ]
  },
  {
   "cell_type": "markdown",
   "metadata": {},
   "source": [
    "Reduce the feature dimension to 2d"
   ]
  },
  {
   "cell_type": "code",
   "execution_count": 20,
   "metadata": {
    "collapsed": true
   },
   "outputs": [],
   "source": [
    "# Project on 2 PCs\n",
    "pca_2d = PCA(n_components = 2) # 2 principle components\n",
    "pca_2d.fit(X_train)\n",
    "# reduce the dataset to 2 pcs\n",
    "reduced_data = pca_2d.fit_transform(X_train) "
   ]
  },
  {
   "cell_type": "code",
   "execution_count": 21,
   "metadata": {
    "collapsed": false
   },
   "outputs": [
    {
     "name": "stderr",
     "output_type": "stream",
     "text": [
      "C:\\Users\\Dalaska\\Anaconda2\\lib\\site-packages\\matplotlib\\axes\\_axes.py:519: UserWarning: No labelled objects found. Use label='...' kwarg on individual plots.\n",
      "  warnings.warn(\"No labelled objects found. \"\n"
     ]
    },
    {
     "data": {
      "image/png": "[encoded data removed]",
      "text/plain": [
       "<matplotlib.figure.Figure at 0x4e84b2b0>"
      ]
     },
     "metadata": {},
     "output_type": "display_data"
    },
    {
     "name": "stdout",
     "output_type": "stream",
     "text": [
      "time (secs): 109.835\n"
     ]
    }
   ],
   "source": [
    "# Visualization PCA in 2D\n",
    "fig = plt.figure(figsize=(10, 7))\n",
    "ax = fig.add_subplot(1, 1, 1)\n",
    "#colors = [(0.0, 0.63, 0.69), 'black']\n",
    "colors = [ 'black']\n",
    "classes = [0,1]\n",
    "#labels = [\"passed\", \"failed\"]\n",
    "labels = [\"\"]\n",
    "markers = [\"o\"]\n",
    "#markers = [\"o\", \"D\"]\n",
    "for class_ix, marker, color, label in zip(classes, markers, colors, labels):\n",
    "    ax.scatter(reduced_data[:, 0],\n",
    "               reduced_data[:, 1],\n",
    "               marker=marker, color=color, \n",
    "               #edgecolor='whitesmoke',\n",
    "               linewidth='1', alpha=0.2, label=label)\n",
    "    ax.legend(loc='best')\n",
    "plt.title(\" Principal Components Analysis\")\n",
    "plt.xlabel(\"Principal Axis 1\")\n",
    "plt.ylabel(\"Principal Axis 2\")\n",
    "plt.show()\n",
    "end = time.time()\n",
    "print (\"time (secs): {:.3f}\".format(end - start))"
   ]
  },
  {
   "cell_type": "code",
   "execution_count": 22,
   "metadata": {
    "collapsed": false
   },
   "outputs": [
    {
     "name": "stderr",
     "output_type": "stream",
     "text": [
      "C:\\Users\\Dalaska\\AppData\\Roaming\\Python\\Python27\\site-packages\\sklearn\\neighbors\\__init__.py:6: RuntimeWarning: numpy.dtype size changed, may indicate binary incompatibility\n",
      "  from .ball_tree import BallTree\n",
      "C:\\Users\\Dalaska\\AppData\\Roaming\\Python\\Python27\\site-packages\\sklearn\\neighbors\\__init__.py:7: RuntimeWarning: numpy.dtype size changed, may indicate binary incompatibility\n",
      "  from .kd_tree import KDTree\n",
      "C:\\Users\\Dalaska\\AppData\\Roaming\\Python\\Python27\\site-packages\\sklearn\\utils\\graph.py:16: RuntimeWarning: numpy.dtype size changed, may indicate binary incompatibility\n",
      "  from .graph_shortest_path import graph_shortest_path\n",
      "C:\\Users\\Dalaska\\AppData\\Roaming\\Python\\Python27\\site-packages\\sklearn\\isotonic.py:11: RuntimeWarning: numpy.dtype size changed, may indicate binary incompatibility\n",
      "  from ._isotonic import _isotonic_regression\n",
      "C:\\Users\\Dalaska\\AppData\\Roaming\\Python\\Python27\\site-packages\\sklearn\\manifold\\t_sne.py:21: RuntimeWarning: numpy.dtype size changed, may indicate binary incompatibility\n",
      "  from . import _utils\n",
      "C:\\Users\\Dalaska\\AppData\\Roaming\\Python\\Python27\\site-packages\\sklearn\\cluster\\k_means_.py:34: RuntimeWarning: numpy.dtype size changed, may indicate binary incompatibility\n",
      "  from . import _k_means\n",
      "C:\\Users\\Dalaska\\AppData\\Roaming\\Python\\Python27\\site-packages\\sklearn\\cluster\\hierarchical.py:24: RuntimeWarning: numpy.dtype size changed, may indicate binary incompatibility\n",
      "  from . import _hierarchical\n"
     ]
    }
   ],
   "source": [
    "# Import clustering modules\n",
    "from sklearn.cluster import KMeans\n",
    "from sklearn.mixture import GMM"
   ]
  },
  {
   "cell_type": "markdown",
   "metadata": {},
   "source": [
    "## 1.4 Choose the number of cluster"
   ]
  },
  {
   "cell_type": "markdown",
   "metadata": {
    "collapsed": true
   },
   "source": [
    "load libraries"
   ]
  },
  {
   "cell_type": "code",
   "execution_count": 24,
   "metadata": {
    "collapsed": true
   },
   "outputs": [],
   "source": [
    "import numpy as np\n",
    "import matplotlib.pyplot as plt\n",
    "import matplotlib.cm as cm\n",
    "from sklearn.utils import shuffle\n",
    "from sklearn.utils import check_random_state\n",
    "from sklearn.cluster import MiniBatchKMeans\n",
    "from sklearn.cluster import KMeans\n"
   ]
  },
  {
   "cell_type": "code",
   "execution_count": 25,
   "metadata": {
    "collapsed": false
   },
   "outputs": [
    {
     "name": "stdout",
     "output_type": "stream",
     "text": [
      "Evaluation of KMeans with random init\n"
     ]
    },
    {
     "data": {
      "text/plain": [
       "<matplotlib.text.Text at 0x282795f8>"
      ]
     },
     "execution_count": 25,
     "metadata": {},
     "output_type": "execute_result"
    },
    {
     "data": {
      "image/png": "[encoded data removed]",
      "text/plain": [
       "<matplotlib.figure.Figure at 0x28293da0>"
      ]
     },
     "metadata": {},
     "output_type": "display_data"
    }
   ],
   "source": [
    "random_state = np.random.RandomState(42)\n",
    "# Number of run (with randomly generated dataset) for each strategy so as\n",
    "# to be able to compute an estimate of the standard deviation\n",
    "n_runs = 5 # number of repeating\n",
    "\n",
    "# k-means models can do several random inits so as to be able to trade\n",
    "# CPU time for convergence robustness\n",
    "\n",
    "N_clusters = [2,3,4,5,6,7,8,9,10]\n",
    "n_init = 3;\n",
    "# Part 1: Quantitative evaluation of various init methods\n",
    "\n",
    "fig = plt.figure()\n",
    "plots = []\n",
    "legends = []\n",
    "\n",
    "cases = [ (KMeans, 'random', {})]\n",
    "\n",
    "for factory, init, params in cases:\n",
    "    print(\"Evaluation of %s with %s init\" % (factory.__name__, init))\n",
    "    inertia = np.empty((len(N_clusters), n_runs))\n",
    "\n",
    "    for run_id in range(n_runs):\n",
    "        #X, y = make_data(run_id, n_samples_per_center, grid_size, scale)  \n",
    "        X = reduced_data\n",
    "        #for i, n_init in enumerate(n_init_range):\n",
    "        for i, n_clusters in enumerate(N_clusters):\n",
    "            km = factory(n_clusters=n_clusters, init=init, random_state=run_id,\n",
    "                         n_init=n_init, **params).fit(X)\n",
    "            inertia[i, run_id] = km.inertia_\n",
    "    #p = plt.errorbar(N_clusters, inertia.mean(axis=1), inertia.std(axis=1))\n",
    "    p = plt.plot(N_clusters, inertia.mean(axis=1),'-ko')\n",
    "    plots.append(p[0])\n",
    "    legends.append(\"%s with %s init\" % (factory.__name__, init))\n",
    "#print(inertia)\n",
    "plt.xlabel('n_init')\n",
    "plt.ylabel('inertia')\n",
    "plt.legend(plots, legends)\n",
    "plt.title(\"Mean inertia for various k-means init across %d runs\" % n_runs)"
   ]
  },
  {
   "cell_type": "markdown",
   "metadata": {},
   "source": [
    "The number of cluster is set to be 6 "
   ]
  },
  {
   "cell_type": "markdown",
   "metadata": {},
   "source": [
    "## 1.6 Cluster"
   ]
  },
  {
   "cell_type": "markdown",
   "metadata": {},
   "source": [
    "Cluster the data based on the manufacture process"
   ]
  },
  {
   "cell_type": "code",
   "execution_count": 26,
   "metadata": {
    "collapsed": false
   },
   "outputs": [
    {
     "name": "stdout",
     "output_type": "stream",
     "text": [
      "KMeans(copy_x=True, init='k-means++', max_iter=300, n_clusters=6, n_init=10,\n",
      "    n_jobs=1, precompute_distances=True, random_state=42, tol=0.0001,\n",
      "    verbose=0)\n"
     ]
    }
   ],
   "source": [
    "from sklearn import mixture\n",
    "clusters= KMeans(n_clusters=6, random_state=42)\n",
    "clusters.fit(reduced_data) \n",
    "print (clusters)"
   ]
  },
  {
   "cell_type": "code",
   "execution_count": 27,
   "metadata": {
    "collapsed": false
   },
   "outputs": [],
   "source": [
    "# Plot the decision boundary by building a mesh grid to populate a graph.\n",
    "x_min, x_max = reduced_data[:, 0].min() - 1, reduced_data[:, 0].max() + 1\n",
    "y_min, y_max = reduced_data[:, 1].min() - 1, reduced_data[:, 1].max() + 1\n",
    "hx = (x_max-x_min)/1000.\n",
    "hy = (y_max-y_min)/1000.\n",
    "xx, yy = np.meshgrid(np.arange(x_min, x_max, hx), np.arange(y_min, y_max, hy))\n",
    "\n",
    "# Obtain labels for each point in mesh. Use last trained model.\n",
    "Z = clusters.predict(np.c_[xx.ravel(), yy.ravel()])"
   ]
  },
  {
   "cell_type": "code",
   "execution_count": 28,
   "metadata": {
    "collapsed": false
   },
   "outputs": [
    {
     "name": "stdout",
     "output_type": "stream",
     "text": [
      "Centroids:\n",
      "[[  5.16  -6.01]\n",
      " [ -5.     4.1 ]\n",
      " [  1.92   5.87]\n",
      " [-21.5  -12.1 ]\n",
      " [ -2.89  -8.39]\n",
      " [-23.65   0.3 ]]\n"
     ]
    }
   ],
   "source": [
    "import numpy \n",
    "centroids = clusters.cluster_centers_\n",
    "np.set_printoptions(precision=2, suppress=True) # set printing format\n",
    "print (\"Centroids:\")\n",
    "print (centroids)"
   ]
  },
  {
   "cell_type": "markdown",
   "metadata": {},
   "source": [
    "## 1.7 visualize the cluster"
   ]
  },
  {
   "cell_type": "code",
   "execution_count": 29,
   "metadata": {
    "collapsed": false
   },
   "outputs": [
    {
     "data": {
      "image/png": "[encoded data removed]",
      "text/plain": [
       "<matplotlib.figure.Figure at 0x28293c18>"
      ]
     },
     "metadata": {},
     "output_type": "display_data"
    }
   ],
   "source": [
    "# Put the result into a color plot\n",
    "def visual(Z,xx,yy,centroids):\n",
    "    Z = Z.reshape(xx.shape)\n",
    "    plt.figure(figsize=(10, 7))\n",
    "    plt.clf()\n",
    "    plt.imshow(Z, interpolation='nearest',\n",
    "                   extent=(xx.min(), xx.max(), yy.min(), yy.max()),\n",
    "                   cmap=plt.cm.Paired,\n",
    "                   aspect='auto', origin='lower')\n",
    "\n",
    "    plt.plot(reduced_data[:, 0], reduced_data[:, 1], 'k.', markersize=15, alpha=0.2)\n",
    "    plt.scatter(centroids[:, 0], centroids[:, 1],\n",
    "                    marker='x', s=120, linewidths=3,\n",
    "                    color='w', zorder=10)\n",
    "    #plt.title('Clustering on the wholesale grocery dataset (PCA-reduced data)\\n'\n",
    "    #              'Centroids are marked with white cross')\n",
    "    plt.xlabel(\"Principal Axis 1\")\n",
    "    plt.ylabel(\"Principal Axis 2\")\n",
    "    plt.xlim(x_min, x_max)\n",
    "    plt.ylim(y_min, y_max)\n",
    "    #plt.xticks(())\n",
    "    #plt.yticks(())\n",
    "    plt.show()\n",
    "\n",
    "visual(Z,xx,yy,centroids)"
   ]
  },
  {
   "cell_type": "markdown",
   "metadata": {
    "collapsed": true
   },
   "source": [
    "## 2 Model Selection "
   ]
  },
  {
   "cell_type": "markdown",
   "metadata": {
    "collapsed": true
   },
   "source": [
    "## 2.1 train the classifier"
   ]
  },
  {
   "cell_type": "code",
   "execution_count": 30,
   "metadata": {
    "collapsed": true
   },
   "outputs": [],
   "source": [
    "# Train a model\n",
    "def train_classifier(clf, X_Train, y_Train):\n",
    "    #print (\"{}...\".format(clf.__class__.__name__))\n",
    "    start = time.time()\n",
    "    clf.fit(X_Train, y_Train)\n",
    "    end = time.time()\n",
    "    train_time = end - start\n",
    "    return clf,train_time"
   ]
  },
  {
   "cell_type": "code",
   "execution_count": 31,
   "metadata": {
    "collapsed": false
   },
   "outputs": [],
   "source": [
    "# debug\n",
    "#clf,train_time = train_classifier(clf1, X_cv_train, y_cv_train)"
   ]
  },
  {
   "cell_type": "markdown",
   "metadata": {},
   "source": [
    "## 2.2 Predict labels"
   ]
  },
  {
   "cell_type": "code",
   "execution_count": 32,
   "metadata": {
    "collapsed": true
   },
   "outputs": [],
   "source": [
    "# For parameter tuning\n",
    "# Predict on training set and compute matthews corrcoef\n",
    "from sklearn.metrics import roc_auc_score\n",
    "def predict_labels(clf, features, target):\n",
    "    start = time.time()\n",
    "    y_pred = clf.predict_proba(features)\n",
    "    end = time.time()\n",
    "    auroc = roc_auc_score(target, y_pred[:,1]) # select column\n",
    "    p_val,mcc  = find_p(y_pred[:,1],target )\n",
    "    return y_pred[:,1],p_val,mcc,auroc"
   ]
  },
  {
   "cell_type": "markdown",
   "metadata": {},
   "source": [
    "## 2.3 Optimize MCC"
   ]
  },
  {
   "cell_type": "code",
   "execution_count": 33,
   "metadata": {
    "collapsed": true
   },
   "outputs": [],
   "source": [
    "# optimized MCC\n",
    "def find_p(y_prob,y_target ):\n",
    "    grid = np.multiply(0.01,range(100)) \n",
    "    # tune p\n",
    "    p_list = []\n",
    "    pred = [0]*len(y_prob)\n",
    "    for p in grid:\n",
    "        for i in range(len(y_prob)):        \n",
    "            if y_prob[i] > p:\n",
    "                pred[i] = 1\n",
    "            else:\n",
    "                pred[i] = 0       \n",
    "        score = matthews_corrcoef(y_target, pred)\n",
    "        p_list.append(score)\n",
    "    p_val = grid[p_list.index(max(p_list))]\n",
    "    best_score  = max(p_list)\n",
    "    \n",
    "    return p_val , best_score "
   ]
  },
  {
   "cell_type": "markdown",
   "metadata": {},
   "source": [
    "## 2.4 Crossvalidation"
   ]
  },
  {
   "cell_type": "code",
   "execution_count": 34,
   "metadata": {
    "collapsed": true
   },
   "outputs": [],
   "source": [
    "# For parameter tuning\n",
    "# Train and predict using different training set sizes\n",
    "def train_predict(clf, X_Train, y_Train, X_Test, y_Test):\n",
    "    clf,train_time = train_classifier(clf, X_Train, y_Train)\n",
    "    y_p_train, p_val_train , mcc_train, auc_train = predict_labels(clf, X_Train, y_Train)\n",
    "    y_p_test,  p_val_test ,  mcc_test,  auc_test = predict_labels(clf, X_Test, y_Test)\n",
    "    print (\"{}...\".format(clf.__class__.__name__))\n",
    "    print (\"     train time:{:.0f}, test mcc: {:.4f}, acu: {:.3f}, train mcc: {:.3f}, auc: {:.3f}\".format(train_time,mcc_test,auc_test,mcc_train,auc_train ))\n",
    "    return clf,y_p_test, p_val_test, p_val_train, mcc_test , auc_train"
   ]
  },
  {
   "cell_type": "code",
   "execution_count": 35,
   "metadata": {
    "collapsed": true
   },
   "outputs": [],
   "source": [
    "# debug\n",
    "#clf,y_p_test, p_val_test, p_val_train, mcc_test , auc_train = train_predict(clf, X_cv_train, y_cv_train, X_cv_test, y_cv_test)"
   ]
  },
  {
   "cell_type": "markdown",
   "metadata": {
    "collapsed": true
   },
   "source": [
    "load libaries"
   ]
  },
  {
   "cell_type": "code",
   "execution_count": 38,
   "metadata": {
    "collapsed": false
   },
   "outputs": [],
   "source": [
    "# load libaries\n",
    "from sklearn.ensemble import RandomForestClassifier\n",
    "from sklearn.ensemble import AdaBoostClassifier\n",
    "from sklearn.tree import DecisionTreeClassifier\n",
    "from sklearn.ensemble import GradientBoostingClassifier\n",
    "from sklearn import linear_model \n",
    "from sklearn import naive_bayes \n",
    "from sklearn import ensemble\n",
    "from sklearn import tree\n",
    "from sklearn import metrics\n",
    "from sklearn.svm import SVC\n",
    "from sklearn.neighbors import KNeighborsClassifier\n",
    "from sklearn.naive_bayes import GaussianNB\n"
   ]
  },
  {
   "cell_type": "markdown",
   "metadata": {},
   "source": [
    "## 2.7 Seperate training and testing"
   ]
  },
  {
   "cell_type": "code",
   "execution_count": 39,
   "metadata": {
    "collapsed": false
   },
   "outputs": [
    {
     "name": "stdout",
     "output_type": "stream",
     "text": [
      "Training set: 8500 samples\n",
      "Test set: 1500 samples\n"
     ]
    }
   ],
   "source": [
    "# First, decide how many training vs test samples you want\n",
    "from sklearn.cross_validation import train_test_split\n",
    "\n",
    "num_all = X_train.shape[0]  # same as len(student_data)\n",
    "num_train = int(0.85*num_all)  # about 75% of the data\n",
    "num_test = num_all - num_train\n",
    "\n",
    "X_cv_train, X_cv_test, y_cv_train, y_cv_test = train_test_split(X_train, y_train, train_size = num_train)\n",
    "\n",
    "print (\"Training set: {} samples\".format(X_cv_train.shape[0]))\n",
    "print (\"Test set: {} samples\".format(X_cv_test.shape[0]))\n"
   ]
  },
  {
   "cell_type": "markdown",
   "metadata": {},
   "source": [
    "## 2.8 Different models"
   ]
  },
  {
   "cell_type": "code",
   "execution_count": 40,
   "metadata": {
    "collapsed": false
   },
   "outputs": [
    {
     "name": "stdout",
     "output_type": "stream",
     "text": [
      "DecisionTreeClassifier...\n",
      "     train time:5, test mcc: -0.0057, acu: 0.498, train mcc: 1.000, auc: 1.000\n",
      "AdaBoostClassifier...\n",
      "     train time:2, test mcc: 0.0588, acu: 0.544, train mcc: 0.149, auc: 0.880\n",
      "RandomForestClassifier...\n",
      "     train time:1, test mcc: 0.0962, acu: 0.516, train mcc: 0.989, auc: 1.000\n"
     ]
    }
   ],
   "source": [
    "clf1 = DecisionTreeClassifier()\n",
    "clf2 = AdaBoostClassifier(n_estimators = 10)\n",
    "clf3 = RandomForestClassifier(n_estimators = 10)\n",
    "    \n",
    "train_size = [1000,]\n",
    "for i in train_size:\n",
    "    clf1,y_pred1,p2t,p2n,mcc,auc = train_predict(clf1, X_cv_train, y_cv_train, X_cv_test, y_cv_test)\n",
    "    clf2,y_pred2,p2t,p2n,mcc,auc = train_predict(clf2, X_cv_train, y_cv_train, X_cv_test, y_cv_test)\n",
    "    clf3,y_pred3,p2t,p2n,mcc,auc = train_predict(clf3, X_cv_train, y_cv_train, X_cv_test, y_cv_test)\n",
    "    "
   ]
  },
  {
   "cell_type": "markdown",
   "metadata": {},
   "source": [
    "## 2.9 plot ROC curve"
   ]
  },
  {
   "cell_type": "code",
   "execution_count": 41,
   "metadata": {
    "collapsed": false
   },
   "outputs": [
    {
     "data": {
      "text/plain": [
       "<matplotlib.legend.Legend at 0x8188af60>"
      ]
     },
     "execution_count": 41,
     "metadata": {},
     "output_type": "execute_result"
    },
    {
     "data": {
      "image/png": "[encoded data removed]",
      "text/plain": [
       "<matplotlib.figure.Figure at 0x81899b70>"
      ]
     },
     "metadata": {},
     "output_type": "display_data"
    }
   ],
   "source": [
    "from sklearn.metrics import roc_curve, auc\n",
    "fpr1, tpr1, thresholds1 = roc_curve(y_cv_test, y_pred1)\n",
    "fpr2, tpr2, thresholds2 = roc_curve(y_cv_test, y_pred2)\n",
    "fpr3, tpr3, thresholds3 = roc_curve(y_cv_test, y_pred3)\n",
    "\n",
    "plt.figure(figsize=(8,5))\n",
    "plt.plot(fpr1, tpr1, lw=2, label='Cluster 1' )\n",
    "plt.plot(fpr2, tpr2, lw=2, label='Cluster 2' )\n",
    "plt.plot(fpr3, tpr3, lw=2, label='Cluster 3' )\n",
    "plt.plot([0, 1], [0, 1],'--', color=(0.6, 0.6, 0.6), label='Luck')\n",
    "plt.grid()\n",
    "plt.xlabel('False Positive Rate')\n",
    "plt.ylabel('True Positive Rate')\n",
    "plt.legend(loc=\"lower right\")"
   ]
  },
  {
   "cell_type": "markdown",
   "metadata": {
    "collapsed": true
   },
   "source": [
    "## 3.0 Model refining"
   ]
  },
  {
   "cell_type": "code",
   "execution_count": 43,
   "metadata": {
    "collapsed": false
   },
   "outputs": [
    {
     "name": "stdout",
     "output_type": "stream",
     "text": [
      "ftr: 20 ,dpt: 2 ,lef: 4\n",
      "RandomForestClassifier...\n",
      "     train time:0, test mcc: 0.0000, acu: 0.475, train mcc: 0.044, auc: 0.566\n",
      "ftr: 20 ,dpt: 2 ,lef: 5\n",
      "RandomForestClassifier...\n",
      "     train time:0, test mcc: 0.0000, acu: 0.475, train mcc: 0.044, auc: 0.566\n",
      "ftr: 20 ,dpt: 3 ,lef: 4\n",
      "RandomForestClassifier...\n",
      "     train time:0, test mcc: 0.0141, acu: 0.500, train mcc: 0.094, auc: 0.607\n",
      "ftr: 20 ,dpt: 3 ,lef: 5\n",
      "RandomForestClassifier...\n",
      "     train time:0, test mcc: 0.0141, acu: 0.500, train mcc: 0.090, auc: 0.607\n",
      "ftr: 30 ,dpt: 2 ,lef: 4\n",
      "RandomForestClassifier...\n",
      "     train time:0, test mcc: 0.0033, acu: 0.472, train mcc: 0.073, auc: 0.553\n",
      "ftr: 30 ,dpt: 2 ,lef: 5\n",
      "RandomForestClassifier...\n",
      "     train time:0, test mcc: 0.0033, acu: 0.472, train mcc: 0.045, auc: 0.552\n",
      "ftr: 30 ,dpt: 3 ,lef: 4\n",
      "RandomForestClassifier...\n",
      "     train time:0, test mcc: 0.0040, acu: 0.472, train mcc: 0.199, auc: 0.566\n",
      "ftr: 30 ,dpt: 3 ,lef: 5\n",
      "RandomForestClassifier...\n",
      "     train time:0, test mcc: 0.0033, acu: 0.472, train mcc: 0.199, auc: 0.565\n",
      "\n",
      "Best Parameters:\n",
      "mcc: 0.0141, p:0.00, auc_:0.607 ftr: 20, dpt: 3, lef: 4\n",
      "mcc: 0.0141, p:0.00, auc_:0.607 ftr: 20, dpt: 3, lef: 5\n",
      "mcc: 0.0040, p:0.00, auc_:0.566 ftr: 30, dpt: 3, lef: 4\n",
      "mcc: 0.0033, p:0.00, auc_:0.552 ftr: 30, dpt: 2, lef: 5\n",
      "mcc: 0.0033, p:0.00, auc_:0.553 ftr: 30, dpt: 2, lef: 4\n"
     ]
    },
    {
     "data": {
      "image/png": "[encoded data removed]",
      "text/plain": [
       "<matplotlib.figure.Figure at 0x621e8d30>"
      ]
     },
     "metadata": {},
     "output_type": "display_data"
    }
   ],
   "source": [
    "# use grid search to optimized the parameters\n",
    "# max_depth\n",
    "y = [2,3] #8\n",
    "# max_feature\n",
    "x = [20,30] #7\n",
    "# tree leaf\n",
    "z = [4,5] # 9\n",
    "\n",
    "# save the result into a list\n",
    "MCC =[] # mcc score\n",
    "ftr = [] # number of feature\n",
    "dpt = [] # tree depth\n",
    "lef = [] # min leaf\n",
    "pt = [] # threshold\n",
    "AUC = [] # aus score\n",
    "\n",
    "for i in x:\n",
    "    for j in y:\n",
    "        for k in z:\n",
    "            print (\"ftr: {} ,dpt: {} ,lef: {}\".format(i,j,k ))\n",
    "            clf = RandomForestClassifier(n_estimators = 1,\n",
    "                                         max_features = i,\n",
    "                                         max_depth = j,\n",
    "                                         min_samples_leaf = k,\n",
    "                                         random_state = 42,) \n",
    "            clf,y_pred,p2t,p2n,mcc,auc = train_predict(clf, X_cv_train, y_cv_train, X_cv_test, y_cv_test)\n",
    "            MCC.append(mcc)\n",
    "            ftr.append(i)\n",
    "            dpt.append(j)\n",
    "            lef.append(k)\n",
    "            pt.append(p2t)\n",
    "            AUC.append(auc)\n",
    "    \n",
    "# Visual aesthetics\n",
    "plt.figure(figsize=(5,2))\n",
    "plt.plot(MCC, color='r')\n",
    "plt.legend()\n",
    "plt.xlabel('x')\n",
    "plt.ylabel('mcc')\n",
    "\n",
    "MCC2 = [x*(-1) for x in MCC]\n",
    "sort_id = np.argsort(MCC2)\n",
    "print('\\nBest Parameters:')\n",
    "for i in range(5):\n",
    "    print (\"mcc: {:.4f}, p:{:.2f}, auc_:{:.3f} ftr: {}, dpt: {}, lef: {}\".format(MCC[sort_id[i]],pt[sort_id[i]],AUC[sort_id[i]],ftr[sort_id[i]],dpt[sort_id[i]],lef[sort_id[i]] ))"
   ]
  },
  {
   "cell_type": "code",
   "execution_count": null,
   "metadata": {
    "collapsed": true
   },
   "outputs": [],
   "source": []
  }
 ],
 "metadata": {
  "kernelspec": {
   "display_name": "Python 2",
   "language": "python",
   "name": "python2"
  },
  "language_info": {
   "codemirror_mode": {
    "name": "ipython",
    "version": 2
   },
   "file_extension": ".py",
   "mimetype": "text/x-python",
   "name": "python",
   "nbconvert_exporter": "python",
   "pygments_lexer": "ipython2",
   "version": "2.7.11"
  }
 },
 "nbformat": 4,
 "nbformat_minor": 0
}
